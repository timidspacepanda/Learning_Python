{
 "cells": [
  {
   "cell_type": "code",
   "execution_count": null,
   "id": "0",
   "metadata": {},
   "outputs": [],
   "source": [
    "import pandas as pd\n",
    "\n",
    "driver_filepath = r\"C:\\Users\\iamky\\10_Learning_Python\\formula_one_study\\data\\formula-one-data\\drivers.csv\"\n",
    "races_filepath = r\"C:\\Users\\iamky\\10_Learning_Python\\formula_one_study\\data\\formula-one-data\\races.csv\"\n",
    "pitstop_filepath = r\"C:\\Users\\iamky\\10_Learning_Python\\formula_one_study\\data\\formula-one-data\\pit_stops.csv\"\n",
    "\n",
    "df_driver = pd.read_csv(driver_filepath)\n",
    "df_races = pd.read_csv(races_filepath)\n",
    "df_pitstop = pd.read_csv(pitstop_filepath)\n",
    "\n",
    "# Reduce df_driver table\n",
    "df_driver = df_driver[[\"driverId\", \"code\"]]\n",
    "\n",
    "# Filter grand prix name (name) from df_pitstop\n",
    "df_races = df_races[df_races[\"name\"] == \"British Grand Prix\"]\n",
    "df_races = df_races[[\"raceId\", \"year\", \"circuitId\", \"name\"]]\n",
    "\n",
    "# Join tables\n",
    "merged = pd.merge(df_driver, df_pitstop, on='driverId', how='inner', validate='one_to_many')\n",
    "merged = pd.merge(df_races, merged, on='raceId', how='inner', validate='one_to_many')   \n",
    "\n",
    "# Filter pitstop times over 5 minutes (300000 milliseconds)\n",
    "#merged = merged[merged['milliseconds'] <= 300000]\n",
    "\n",
    "# Filter pitstop times over 1 minutes (60000 milliseconds)\n",
    "merged = merged[merged['milliseconds'] <= 60000]\n",
    "\n",
    "# Add converted seconds column, 3 decimals of precision\n",
    "merged['seconds'] = (merged['milliseconds'] / 1000).round(3)\n",
    "\n",
    "print(merged.drop(columns=[\"raceId\", \"circuitId\", \"driverId\", \"time\"]))"
   ]
  },
  {
   "cell_type": "code",
   "execution_count": null,
   "id": "1",
   "metadata": {},
   "outputs": [],
   "source": [
    "import matplotlib.pyplot as plt\n",
    "import seaborn as sns\n",
    "plt.figure(figsize=(12,8))\n",
    "\n",
    "plt.subplot(3,1,1)\n",
    "sns.kdeplot(data=merged, x='seconds', fill=True)\n",
    "plt.title('Pitstop in Seconds KDE Plot')\n",
    "\n",
    "plt.subplot(3,1,2)\n",
    "sns.histplot(data=merged, x='seconds', kde=True, stat='density', alpha=0.7)\n",
    "plt.title('Pitstop in Seconds Histogram and KDE')\n",
    "\n",
    "plt.subplot(3,1,3)\n",
    "sns.histplot(data=merged, x='seconds', cumulative=True, stat='density',\n",
    "             element='step', fill=False, color='red', linewidth=2)\n",
    "plt.title('Pitstop in Seconds Cumulative Density')\n",
    "plt.ylabel('Cumulative Probability')\n",
    "\n",
    "plt.tight_layout()\n",
    "plt.show()\n"
   ]
  },
  {
   "cell_type": "code",
   "execution_count": null,
   "id": "2",
   "metadata": {},
   "outputs": [],
   "source": [
    "# Calculate KDE probability given a range.\n",
    "import pandas as pd\n",
    "from scipy import stats\n",
    "from scipy.integrate import quad\n",
    "\n",
    "lower = 29\n",
    "upper = 35\n",
    "\n",
    "kde = stats.gaussian_kde(merged['seconds'])\n",
    "\n",
    "def probability_range(kde_obj, lower, upper):\n",
    "    prob, _ = quad(kde_obj, lower, upper)\n",
    "    return prob\n",
    "\n",
    "prob = probability_range(kde, lower, upper)\n",
    "print(f\"P({lower:.2f} <= X <= {upper:.2f}) = {prob:.4f}\")"
   ]
  },
  {
   "cell_type": "code",
   "execution_count": null,
   "id": "3",
   "metadata": {},
   "outputs": [],
   "source": []
  }
 ],
 "metadata": {
  "kernelspec": {
   "display_name": "DataAnalysis_Statistics",
   "language": "python",
   "name": "python3"
  },
  "language_info": {
   "codemirror_mode": {
    "name": "ipython",
    "version": 3
   },
   "file_extension": ".py",
   "mimetype": "text/x-python",
   "name": "python",
   "nbconvert_exporter": "python",
   "pygments_lexer": "ipython3",
   "version": "3.11.13"
  }
 },
 "nbformat": 4,
 "nbformat_minor": 5
}
