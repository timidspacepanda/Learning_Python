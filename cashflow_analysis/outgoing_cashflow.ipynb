{
 "cells": [
  {
   "cell_type": "code",
   "execution_count": null,
   "id": "0",
   "metadata": {},
   "outputs": [],
   "source": [
    "import pandas as pd\n",
    "import matplotlib.pyplot as plt\n",
    "from scipy import stats\n",
    "from utils import get_stmt_data\n",
    "\n",
    "df = get_stmt_data('../data/stmt.csv')\n",
    "\n",
    "# Set date as index (convert to Timeseries )\n",
    "df.set_index('Date', inplace=True)\n",
    "\n",
    "monthly_cashflow = df['Amount'].resample('ME').sum()\n",
    "print('\\n////////////////////\\nWeekly Cashflow Sum (12-month)\\n////////////////////')\n",
    "print(monthly_cashflow)\n",
    "\n",
    "# Plot weekly cashflow\n",
    "import matplotlib.pyplot as plt\n",
    "\n",
    "monthly_cashflow.plot(figsize=(10,5))\n",
    "plt.title('Time Series Plot of Weekly Cashflow')\n",
    "plt.xlabel('Date')\n",
    "plt.ylabel('Value ($)')\n",
    "plt.grid(True)\n",
    "plt.legend()\n",
    "plt.show()\n"
   ]
  },
  {
   "cell_type": "code",
   "execution_count": null,
   "id": "1",
   "metadata": {},
   "outputs": [],
   "source": [
    "import pandas as pd\n",
    "\n",
    "# Filter for negative cashflows\n",
    "negative_df = df[df['Amount']<0]\n",
    "\n",
    "# Resample monthly and sum the negative cashflows\n",
    "monthly_negative_cashflow = negative_df['Amount'].resample('ME').sum()\n",
    "\n",
    "monthly_negative_cashflow_abs = monthly_negative_cashflow.abs()\n",
    "print('\\nMonthly Negative Cashflow (12-month)')\n",
    "print(monthly_negative_cashflow)\n",
    "print(f'Mean of Monthly Negative Cashflow ${monthly_negative_cashflow.mean():.2f}')\n",
    "\n",
    "# Filter for Positive cashflows\n",
    "positive_df = df[df['Amount']>0]\n",
    "\n",
    "# Resample monthly and sum the positive cashflows\n",
    "monthly_positive_cashflow = positive_df['Amount'].resample('ME').sum()\n",
    "\n",
    "print('\\nMonthly Positve Cashflow (12-month)')\n",
    "print(monthly_positive_cashflow)\n",
    "print(f'Mean of Monthly Positive Cashflow ${monthly_positive_cashflow.mean():.2f}')"
   ]
  },
  {
   "cell_type": "code",
   "execution_count": null,
   "id": "2",
   "metadata": {},
   "outputs": [],
   "source": [
    "# Stationary Tests\n",
    "from statsmodels.tsa.stattools import adfuller\n",
    "\n",
    "print('Stationary Test')\n",
    "\n",
    "adf_result_net_cashflow = adfuller(monthly_cashflow)\n",
    "print(f'Net Cashflow p-value: {adf_result_net_cashflow[1]}') # p < 0.05: likely stationary\n",
    "\n",
    "adf_results_postive_cashflow = adfuller(monthly_positive_cashflow)\n",
    "print(f'Positive Cashflow p-value: {adf_results_postive_cashflow[1]}')\n",
    "\n",
    "adf_results_negative_cashflow = adfuller(monthly_negative_cashflow)\n",
    "print(f'Negative Cashflow p-value: {adf_results_negative_cashflow[1]}')\n"
   ]
  },
  {
   "cell_type": "code",
   "execution_count": null,
   "id": "3",
   "metadata": {},
   "outputs": [],
   "source": [
    "# Autocorrelation & Partial Autocorrelation\n",
    "from statsmodels.graphics.tsaplots import plot_acf, plot_pacf\n",
    "\n",
    "plot_acf(monthly_positive_cashflow)\n",
    "plot_pacf(monthly_positive_cashflow)"
   ]
  }
 ],
 "metadata": {
  "kernelspec": {
   "display_name": "DataAnalysis_Statistics",
   "language": "python",
   "name": "python3"
  },
  "language_info": {
   "codemirror_mode": {
    "name": "ipython",
    "version": 3
   },
   "file_extension": ".py",
   "mimetype": "text/x-python",
   "name": "python",
   "nbconvert_exporter": "python",
   "pygments_lexer": "ipython3",
   "version": "3.11.13"
  }
 },
 "nbformat": 4,
 "nbformat_minor": 5
}
