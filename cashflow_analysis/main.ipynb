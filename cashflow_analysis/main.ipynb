{
 "cells": [
  {
   "cell_type": "code",
   "execution_count": null,
   "id": "0",
   "metadata": {},
   "outputs": [],
   "source": [
    "import pandas as pd\n",
    "from scipy import stats\n",
    "\n",
    "df = pd.read_csv('../data/stmt.csv')\n",
    "\n",
    "# Convert to numeric\n",
    "df['Amount'] = pd.to_numeric(df['Amount'].str.replace(',', '', regex=False))\n",
    "df['Running Bal.'] = pd.to_numeric(df['Running Bal.'].str.replace(',', '', regex=False))\n",
    "\n",
    "# Convert to datetime\n",
    "df['Date'] = pd.to_datetime(df['Date'], errors='coerce')\n",
    "\n",
    "print(df.head())\n",
    "\n",
    "print(df.dtypes)\n"
   ]
  },
  {
   "cell_type": "code",
   "execution_count": null,
   "id": "1",
   "metadata": {},
   "outputs": [],
   "source": [
    "# Caclculate descriptive statistics\n",
    "print(df['Amount'].describe(include='all'))\n",
    "\n",
    "# Skewness and Kurtosis\n",
    "print(stats.skew(df['Amount'].dropna()))\n",
    "print(stats.kurtosis(df['Amount'].dropna(), fisher=False)) # Use fisher=True for excess kurtosis\n"
   ]
  },
  {
   "cell_type": "code",
   "execution_count": null,
   "id": "2",
   "metadata": {},
   "outputs": [],
   "source": [
    "# Downsample dataset to Monthly Cashflow\n",
    "# Set date as index\n",
    "df.set_index('Date', inplace=True)\n",
    "\n",
    "# Resample by month and sum the cashflow\n",
    "monthly_df = df.resample('M').sum()\n",
    "monthly_df = monthly_df.drop(['Description'], axis=1)\n",
    "print(monthly_df)"
   ]
  }
 ],
 "metadata": {
  "kernelspec": {
   "display_name": "DataAnalysis_Statistics",
   "language": "python",
   "name": "python3"
  },
  "language_info": {
   "codemirror_mode": {
    "name": "ipython",
    "version": 3
   },
   "file_extension": ".py",
   "mimetype": "text/x-python",
   "name": "python",
   "nbconvert_exporter": "python",
   "pygments_lexer": "ipython3",
   "version": "3.11.13"
  }
 },
 "nbformat": 4,
 "nbformat_minor": 5
}
