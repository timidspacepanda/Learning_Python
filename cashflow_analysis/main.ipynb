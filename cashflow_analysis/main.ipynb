{
 "cells": [
  {
   "cell_type": "code",
   "execution_count": null,
   "id": "0",
   "metadata": {},
   "outputs": [],
   "source": [
    "import pandas as pd\n",
    "from scipy import stats\n",
    "\n",
    "df = pd.read_csv('../data/stmt.csv')\n",
    "\n",
    "# Convert to numeric\n",
    "df['Amount'] = pd.to_numeric(df['Amount'].str.replace(',', '', regex=False))\n",
    "df['Running Bal.'] = pd.to_numeric(df['Running Bal.'].str.replace(',', '', regex=False))\n",
    "\n",
    "# Convert to datetime\n",
    "df['Date'] = pd.to_datetime(df['Date'], errors='coerce')\n",
    "\n",
    "print(df.head())\n",
    "\n",
    "print(df.dtypes)\n"
   ]
  },
  {
   "cell_type": "code",
   "execution_count": null,
   "id": "1",
   "metadata": {},
   "outputs": [],
   "source": [
    "# Caclculate descriptive statistics\n",
    "print(df['Amount'].describe(include='all'))\n",
    "\n",
    "# Skewness and Kurtosis\n",
    "print(stats.skew(df['Amount'].dropna()))\n",
    "print(stats.kurtosis(df['Amount'].dropna(), fisher=False)) # Use fisher=True for excess kurtosis\n"
   ]
  },
  {
   "cell_type": "code",
   "execution_count": null,
   "id": "2",
   "metadata": {},
   "outputs": [],
   "source": [
    "# Downsample dataset to Monthly Cashflow\n",
    "# Set date as index\n",
    "df.set_index('Date', inplace=True)\n",
    "\n",
    "# Resample by month and sum the cashflow\n",
    "monthly_cashflow = df['Amount'].resample('ME').sum()\n",
    "print('\\n////////////////////\\nMonthly Cashflow Sum (12-month)\\n////////////////////')\n",
    "print(monthly_cashflow)\n",
    "\n",
    "weekly_cashflow = df['Amount'].resample('W').sum()\n",
    "print('\\n////////////////////\\nWeekly Cashflow Sum (12-month)\\n////////////////////')\n",
    "print(weekly_cashflow)\n",
    "\n",
    "avg_monthly_bal = df['Running Bal.'].resample('ME').mean()\n",
    "print('\\n////////////////////\\nMonthly Average Balance (12-month)\\n////////////////////')\n",
    "print(avg_monthly_bal)"
   ]
  },
  {
   "cell_type": "code",
   "execution_count": null,
   "id": "3",
   "metadata": {},
   "outputs": [],
   "source": [
    "# Plot weekly cashflow\n",
    "import matplotlib.pyplot as plt\n",
    "\n",
    "weekly_cashflow.plot(figsize=(10,5))\n",
    "plt.title('Time Series Plot of Weekly Cashflow')\n",
    "plt.xlabel('Date')\n",
    "plt.ylabel('Value ($)')\n",
    "plt.grid(True)\n",
    "plt.legend()\n",
    "plt.show()"
   ]
  },
  {
   "cell_type": "code",
   "execution_count": null,
   "id": "4",
   "metadata": {},
   "outputs": [],
   "source": [
    "import matplotlib.pyplot as plt\n",
    "\n",
    "# Plot cashflow and running balance\n",
    "df[['Amount', 'Running Bal.']].plot(figsize=(10,5))\n",
    "plt.title('Time Series Plot of Cashflow and Running Balance')\n",
    "plt.xlabel('Date')\n",
    "plt.ylabel('Vale ($)')\n",
    "plt.grid(True)\n",
    "plt.legend()\n",
    "plt.show()"
   ]
  },
  {
   "cell_type": "code",
   "execution_count": null,
   "id": "5",
   "metadata": {},
   "outputs": [],
   "source": [
    "# Probability Density Function (PDF) from daily cashflow data\n",
    "\n",
    "# 1. Kernel Density Estimation (KDE)\n",
    "import seaborn as sns\n",
    "\n",
    "plt.figure(figsize=(10,5))\n",
    "sns.kdeplot(df['Amount'], fill=True)\n",
    "plt.title('Estimated PDF of Daily Cashflow')\n",
    "plt.xlabel('Cashflow ($)')\n",
    "plt.ylabel('Density')\n",
    "plt.grid(True)\n",
    "plt.show()"
   ]
  },
  {
   "cell_type": "code",
   "execution_count": null,
   "id": "6",
   "metadata": {},
   "outputs": [],
   "source": [
    "# 2. Fit a distribution (Normal)\n",
    "import numpy as np\n",
    "from scipy.stats import norm\n",
    "\n",
    "# Fit normal distribution\n",
    "mu, std = norm.fit(df['Amount'])\n",
    "\n",
    "# Plot histogram and fitted PDF\n",
    "x = np.linspace(df['Amount'].min(), df['Amount'].max(), 100)\n",
    "pdf = norm.pdf(x, mu, std)\n",
    "\n",
    "plt.figure(figsize=(10, 5))\n",
    "plt.hist(df['Amount'], bins=20, density=True, alpha=0.5, label='Histogram')\n",
    "plt.plot(x, pdf, 'r-', label='Fitted Normal PDF')\n",
    "plt.title(f'Fitted Normal Distribution: mu={mu:.2f}, sigma={std:.2f}')\n",
    "plt.xlabel('Cashflow')\n",
    "plt.ylabel('Density')\n",
    "plt.legend()\n",
    "plt.grid(True)\n",
    "plt.show()\n",
    "\n"
   ]
  }
 ],
 "metadata": {
  "kernelspec": {
   "display_name": "DataAnalysis_Statistics",
   "language": "python",
   "name": "python3"
  },
  "language_info": {
   "codemirror_mode": {
    "name": "ipython",
    "version": 3
   },
   "file_extension": ".py",
   "mimetype": "text/x-python",
   "name": "python",
   "nbconvert_exporter": "python",
   "pygments_lexer": "ipython3",
   "version": "3.11.13"
  }
 },
 "nbformat": 4,
 "nbformat_minor": 5
}
