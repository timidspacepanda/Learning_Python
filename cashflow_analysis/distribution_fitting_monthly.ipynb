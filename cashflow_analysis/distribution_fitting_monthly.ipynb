{
 "cells": [
  {
   "cell_type": "code",
   "execution_count": null,
   "id": "0",
   "metadata": {},
   "outputs": [],
   "source": [
    "import pandas as pd\n",
    "import matplotlib.pyplot as plt\n",
    "from scipy import stats\n",
    "from utils import get_stmt_data\n",
    "\n",
    "df = get_stmt_data('../data/stmt.csv')\n",
    "\n",
    "# Set date as index (convert to Timeseries )\n",
    "df.set_index('Date', inplace=True)\n",
    "\n",
    "monthly_cashflow = df['Amount'].resample('ME').sum()\n",
    "print('\\n////////////////////\\nWeekly Cashflow Sum (12-month)\\n////////////////////')\n",
    "print(monthly_cashflow)\n",
    "\n",
    "# Plot weekly cashflow\n",
    "import matplotlib.pyplot as plt\n",
    "\n",
    "monthly_cashflow.plot(figsize=(10,5))\n",
    "plt.title('Time Series Plot of Weekly Cashflow')\n",
    "plt.xlabel('Date')\n",
    "plt.ylabel('Value ($)')\n",
    "plt.grid(True)\n",
    "plt.legend()\n",
    "plt.show()\n"
   ]
  },
  {
   "cell_type": "code",
   "execution_count": null,
   "id": "1",
   "metadata": {},
   "outputs": [],
   "source": [
    "# Fit Distribution\n",
    "import numpy as np\n",
    "import pandas as pd\n",
    "import matplotlib.pyplot as plt\n",
    "import scipy.stats as stats\n",
    "\n",
    "# Fit a normal dist.\n",
    "mu, std = stats.norm.fit(monthly_cashflow)\n",
    "\n",
    "# Fit gamma\n",
    "params_gamma = stats.gamma.fit(monthly_cashflow)\n",
    "\n",
    "# Fit lognormal\n",
    "params_lognorm = stats.lognorm.fit(monthly_cashflow)\n",
    "\n",
    "# Fit exponetial\n",
    "params_exp = stats.expon.fit(monthly_cashflow)\n",
    "\n",
    "x = np.linspace(min(monthly_cashflow), max(monthly_cashflow), 100)\n",
    "pdf = stats.norm.pdf(x, mu, std)\n",
    "\n",
    "plt.figure(figsize=(10,5))\n",
    "plt.hist(monthly_cashflow, bins=15, density=True, alpha=0.5, label='Weekly Cashflow histogram (Normal)')\n",
    "plt.plot(x, pdf, 'r-', label=f'Normal Fit\\nmu={mu:.2f}, sigma={std:.2f}')\n",
    "plt.title('Fitted Normal Distribution')\n",
    "plt.xlabel('Value')\n",
    "plt.ylabel('Density')\n",
    "plt.legend()\n",
    "plt.grid(True)\n",
    "plt.show()"
   ]
  },
  {
   "cell_type": "code",
   "execution_count": null,
   "id": "2",
   "metadata": {},
   "outputs": [],
   "source": [
    "# Kernel Density Estimation (KDE)\n",
    "import seaborn as sns\n",
    "\n",
    "plt.figure(figsize=(10,5))\n",
    "sns.kdeplot(monthly_cashflow, fill=True)\n",
    "plt.title('Estimated PDF of Monthly Cashflow (KDE)')\n",
    "plt.xlabel('Cashflow ($)')\n",
    "plt.ylabel('Density')\n",
    "plt.grid(True)\n",
    "plt.show()"
   ]
  },
  {
   "cell_type": "code",
   "execution_count": null,
   "id": "3",
   "metadata": {},
   "outputs": [],
   "source": [
    "# Compare multiple distributions\n",
    "import numpy as np\n",
    "import pandas as pd\n",
    "import matplotlib.pyplot as plt\n",
    "import scipy.stats as stats\n",
    "\n",
    "distributions = [stats.norm, stats.expon, stats.gamma, stats.lognorm]\n",
    "results = {}\n",
    "\n",
    "for dist in distributions:\n",
    "    params = dist.fit(monthly_cashflow)\n",
    "    log_likelihood = np.sum(dist.logpdf(monthly_cashflow, *params))\n",
    "    results[dist.name] = {\"params\": params, \"log_likelihood\": log_likelihood}\n",
    "\n",
    "# Sort by best (highest log-likelihood)\n",
    "results = dict(sorted(results.items(), key=lambda x: -x[1]['log_likelihood']))\n",
    "\n",
    "for name, results in results.items():\n",
    "    print(f\"{name}: log-likelihood = {results['log_likelihood']:.2f}\")"
   ]
  },
  {
   "cell_type": "code",
   "execution_count": null,
   "id": "4",
   "metadata": {},
   "outputs": [],
   "source": [
    "# Perform a Normality Test\n",
    "from scipy.stats import shapiro, normaltest\n",
    "\n",
    "stat, p = shapiro(monthly_cashflow)\n",
    "print(\"Shapiro-Wilk Test  p-value:\", p) # If p < 0.05, the data is not normally distributed."
   ]
  },
  {
   "cell_type": "code",
   "execution_count": null,
   "id": "5",
   "metadata": {},
   "outputs": [],
   "source": [
    "# Probabilities (integration) from CDF\n",
    "\n",
    "from scipy.stats import norm\n",
    "lowerbound = -1000\n",
    "upperbound = -100\n",
    "\n",
    "mu, std = stats.norm.fit(monthly_cashflow)\n",
    "dist = norm(loc=mu, scale=std)\n",
    "\n",
    "# Probability that X is between a range.\n",
    "\n",
    "prob = dist.cdf(upperbound) - dist.cdf(lowerbound)\n",
    "print(f\"P({lowerbound} <= X <= {upperbound}) = {prob:.4f}\")\n",
    "\n"
   ]
  },
  {
   "cell_type": "code",
   "execution_count": null,
   "id": "6",
   "metadata": {},
   "outputs": [],
   "source": [
    "# Probabilities from Fitted PDF (e.g. KDE)\n",
    "\n",
    "import numpy as np\n",
    "from scipy.stats import gaussian_kde\n",
    "from scipy.integrate import quad\n",
    "\n",
    "# Fit KDE\n",
    "kde = gaussian_kde(monthly_cashflow)\n",
    "\n",
    "# Integrate KDE between lower and upper bound\n",
    "prob, _ = quad(kde.evaluate, lowerbound, upperbound)\n",
    "print(f\"P({lowerbound} <= X <= {upperbound}) = {prob:.4f}\")"
   ]
  },
  {
   "cell_type": "code",
   "execution_count": null,
   "id": "7",
   "metadata": {},
   "outputs": [],
   "source": [
    "# Histogram Approximation\n",
    "\n",
    "import numpy as np\n",
    "\n",
    "# PDF approximation (e.g., from histogram)\n",
    "min_val, max_val = min(monthly_cashflow), max(monthly_cashflow)\n",
    "x = np.linspace(min_val, max_val, 1000)\n",
    "pdf_values = norm.pdf(x, loc=mu, scale=std)\n",
    "\n",
    "# Estimate P(lowerbound <= X <= upperbound)\n",
    "mask = (x >= lowerbound) & (x <= upperbound)\n",
    "prob = np.trapezoid(pdf_values[mask], x[mask])\n",
    "print(f\"P({lowerbound} <= X <= {upperbound}) = {prob:.4f}\")"
   ]
  },
  {
   "cell_type": "code",
   "execution_count": null,
   "id": "8",
   "metadata": {},
   "outputs": [],
   "source": [
    "summary = monthly_cashflow.describe(include='all')\n",
    "print(summary)"
   ]
  }
 ],
 "metadata": {
  "kernelspec": {
   "display_name": "DataAnalysis_Statistics",
   "language": "python",
   "name": "python3"
  },
  "language_info": {
   "codemirror_mode": {
    "name": "ipython",
    "version": 3
   },
   "file_extension": ".py",
   "mimetype": "text/x-python",
   "name": "python",
   "nbconvert_exporter": "python",
   "pygments_lexer": "ipython3",
   "version": "3.11.13"
  }
 },
 "nbformat": 4,
 "nbformat_minor": 5
}
