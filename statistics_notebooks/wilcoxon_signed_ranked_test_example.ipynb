{
 "cells": [
  {
   "cell_type": "code",
   "execution_count": null,
   "id": "0",
   "metadata": {},
   "outputs": [],
   "source": [
    "import numpy as np\n",
    "from scipy.stats import wilcoxon\n",
    "import matplotlib.pyplot as plt\n",
    "from utils import check_null_hypothesis_rejected\n",
    "\n",
    "# Simulated paired data (e.g., before and after treatement)\n",
    "np.random.seed(42)\n",
    "before = np.random.normal(loc=10, scale=2, size=30)\n",
    "after = before + np.random.normal(loc=-0.5, scale=1.0, size=30) # Sligth decrease after treatment\n",
    "\n",
    "# Wilcoxon Signed-Rank Test\n",
    "stat, p_value = wilcoxon(before, after)\n",
    "\n",
    "print(\"Wilcoxon Signed-Rank Test\")\n",
    "print(f\"Statistic: {stat:.3f}\")\n",
    "print(f\"P-value: {p_value:.3f}\")\n",
    "\n",
    "# Interpret result\n",
    "check_null_hypothesis_rejected(p_value)\n",
    "\n",
    "# Plotting\n",
    "plt.figure(figsize=(10,4))\n",
    "\n",
    "# Line plot showing paired values\n",
    "plt.subplot(1, 2, 1)\n",
    "for i in range(len(before)):\n",
    "    plt.plot([0, 1], [before[i], after[i]], marker='o', color='gray')\n",
    "plt.xticks([0, 1], ['Before', 'After'])\n",
    "plt.title(\"Paired Sample Changes\")\n",
    "plt.ylabel(\"Measurement Value\")\n",
    "\n",
    "# Boxplot for distribution comparison\n",
    "plt.subplot(1,2,2)\n",
    "plt.boxplot([before, after], label=['Before', 'After'])\n",
    "plt.title(\"Boxplot of Paired Samples\")\n",
    "plt.ylabel(\"Measurement  Value\")\n",
    "\n",
    "plt.tight_layout()\n",
    "plt.show()\n"
   ]
  }
 ],
 "metadata": {
  "kernelspec": {
   "display_name": "DataAnalysis_Statistics",
   "language": "python",
   "name": "python3"
  },
  "language_info": {
   "codemirror_mode": {
    "name": "ipython",
    "version": 3
   },
   "file_extension": ".py",
   "mimetype": "text/x-python",
   "name": "python",
   "nbconvert_exporter": "python",
   "pygments_lexer": "ipython3",
   "version": "3.11.13"
  }
 },
 "nbformat": 4,
 "nbformat_minor": 5
}
