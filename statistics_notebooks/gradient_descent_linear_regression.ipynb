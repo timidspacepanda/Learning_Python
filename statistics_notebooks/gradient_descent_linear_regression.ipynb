{
 "cells": [
  {
   "cell_type": "code",
   "execution_count": null,
   "id": "0",
   "metadata": {},
   "outputs": [],
   "source": [
    "import numpy as np\n",
    "import matplotlib.pyplot as plt\n",
    "\n",
    "# Generate synthetic data\n",
    "#np.random.seed(42)\n",
    "X = 2 * np.random.rand(100, 1)\n",
    "y = 4 + 3 * X + np.random.randn(100, 1) # y = 4 + 3x + noise\n",
    "\n",
    "# Add bias term (intercept) to X\n",
    "X_b = np.c_[np.ones((100, 1)), X] # shape: (100, 2)\n",
    "\n",
    "# Gradient Descent Function\n",
    "def gradient_descent(X, y, learning_rate=0.1, n_iterations=1000):\n",
    "    m = len(y)\n",
    "    theta = np.random.randn(2,1) # Initialize theta randomly  (2 paramters)\n",
    "\n",
    "    cost_history = []\n",
    "\n",
    "    for iteration in range(n_iterations):\n",
    "        gradients = 2/m * X.T.dot(X.dot(theta) - y)\n",
    "        theta = theta - learning_rate * gradients\n",
    "\n",
    "        cost = (1/m) * np.sum((X.dot(theta) - y) ** 2)\n",
    "        cost_history.append(cost)\n",
    "\n",
    "    return theta, cost_history\n",
    "\n",
    "# Run gradient descent\n",
    "theta_best, cost_history = gradient_descent(X_b, y)\n",
    "\n",
    "print(\"Learned parameters:\", theta_best.ravel())\n",
    "\n",
    "# Plot cost over iterations\n",
    "plt.plot(cost_history)\n",
    "plt.xlabel(\"Iteration\")\n",
    "plt.ylabel(\"Cost (MSE)\")\n",
    "plt.title(\"Gradient Descent Convergence\")\n",
    "plt.grid(True)\n",
    "plt.show()"
   ]
  }
 ],
 "metadata": {
  "kernelspec": {
   "display_name": "DataAnalysis_Statistics",
   "language": "python",
   "name": "python3"
  },
  "language_info": {
   "codemirror_mode": {
    "name": "ipython",
    "version": 3
   },
   "file_extension": ".py",
   "mimetype": "text/x-python",
   "name": "python",
   "nbconvert_exporter": "python",
   "pygments_lexer": "ipython3",
   "version": "3.11.13"
  }
 },
 "nbformat": 4,
 "nbformat_minor": 5
}
