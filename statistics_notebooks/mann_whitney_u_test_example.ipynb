{
 "cells": [
  {
   "cell_type": "code",
   "execution_count": null,
   "id": "0",
   "metadata": {},
   "outputs": [],
   "source": [
    "import numpy as np\n",
    "import matplotlib.pyplot as plt\n",
    "from scipy.stats import mannwhitneyu\n",
    "from utils import check_null_hypothesis_rejected\n",
    "\n",
    "# Generate two independent samples (not necessarily normally distributed)\n",
    "np.random.seed(0)\n",
    "group1 = np.random.exponential(scale=1.0, size=100)\n",
    "group2 = np.random.exponential(scale=1.5, size=100)\n",
    "\n",
    "# Perform Mann-Whitney U Test\n",
    "stat, p_value = mannwhitneyu(group1, group2, alternative='two-sided')\n",
    "\n",
    "print(\"Mann-Whitney U Test\")\n",
    "print(f\"U Statistic: {stat:.3f}\")\n",
    "print(f\"P-value: {p_value:.3f}\")\n",
    "\n",
    "# Interpret result\n",
    "check_null_hypothesis_rejected(p_value)\n",
    "\n",
    "# Plot histograms\n",
    "plt.figure(figsize=(12,5))\n",
    "\n",
    "plt.subplot(1,2,1)\n",
    "plt.hist(group1, bins=10, alpha=0.7, label='Group 1', color='blue')\n",
    "plt.hist(group2, bins=10, alpha=0.7, label='Group 2', color='orange')\n",
    "plt.title('Histogram of Group 1 and Group 2')\n",
    "plt.xlabel('Value')\n",
    "plt.ylabel('Frequency')\n",
    "plt.legend()\n",
    "\n",
    "# Boxplot\n",
    "plt.subplot(1,2,2)\n",
    "plt.boxplot([group1, group2], label=['Group 1', 'Group 2'])\n",
    "plt.title('Boxplot of Group 1 and Group 2')\n",
    "plt.ylabel('Value')\n",
    "\n",
    "plt.tight_layout()\n",
    "plt.show()"
   ]
  }
 ],
 "metadata": {
  "kernelspec": {
   "display_name": "DataAnalysis_Statistics",
   "language": "python",
   "name": "python3"
  },
  "language_info": {
   "codemirror_mode": {
    "name": "ipython",
    "version": 3
   },
   "file_extension": ".py",
   "mimetype": "text/x-python",
   "name": "python",
   "nbconvert_exporter": "python",
   "pygments_lexer": "ipython3",
   "version": "3.11.13"
  }
 },
 "nbformat": 4,
 "nbformat_minor": 5
}
