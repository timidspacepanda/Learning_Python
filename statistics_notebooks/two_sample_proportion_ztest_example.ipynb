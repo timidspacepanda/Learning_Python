{
 "cells": [
  {
   "cell_type": "code",
   "execution_count": null,
   "id": "0",
   "metadata": {},
   "outputs": [],
   "source": [
    "from statsmodels.stats.proportion import proportions_ztest\n",
    "from utils import check_null_hypothesis_rejected\n",
    "\n",
    "# Sample data\n",
    "# Group A: 40 Successes out of 100 trials\n",
    "# Group B: 30 Successes out of 90 trials\n",
    "successes = [40, 30]\n",
    "trials = [100, 90]\n",
    "\n",
    "# Perform two-proportion z-test\n",
    "stat, p_value = proportions_ztest(count=successes, nobs=trials, alternative='two-sided')\n",
    "\n",
    "print(\"Two-Sample Proportion Z-Test\")\n",
    "print(f\"Z-statistic: {stat:.3f}\")\n",
    "print(f\"P-value: {p_value:.3f}\")\n",
    "\n",
    "check_null_hypothesis_rejected(p_value)"
   ]
  },
  {
   "cell_type": "code",
   "execution_count": null,
   "id": "1",
   "metadata": {},
   "outputs": [],
   "source": []
  }
 ],
 "metadata": {
  "kernelspec": {
   "display_name": "DataAnalysis_Statistics",
   "language": "python",
   "name": "python3"
  },
  "language_info": {
   "codemirror_mode": {
    "name": "ipython",
    "version": 3
   },
   "file_extension": ".py",
   "mimetype": "text/x-python",
   "name": "python",
   "nbconvert_exporter": "python",
   "pygments_lexer": "ipython3",
   "version": "3.11.13"
  }
 },
 "nbformat": 4,
 "nbformat_minor": 5
}
