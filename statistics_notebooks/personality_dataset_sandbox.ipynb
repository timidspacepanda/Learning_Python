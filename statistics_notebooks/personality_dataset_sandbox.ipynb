{
 "cells": [
  {
   "cell_type": "code",
   "execution_count": null,
   "id": "0",
   "metadata": {},
   "outputs": [],
   "source": [
    "import pandas as pd\n",
    "import matplotlib.pyplot as plt\n",
    "\n",
    "# import csv file\n",
    "df = pd.read_csv(\"C:/Users/KylePC/10_Learning_Python/data/personality_datasert.csv\", delimiter=',')"
   ]
  },
  {
   "cell_type": "code",
   "execution_count": null,
   "id": "1",
   "metadata": {},
   "outputs": [],
   "source": [
    "df.head()"
   ]
  },
  {
   "cell_type": "code",
   "execution_count": null,
   "id": "2",
   "metadata": {},
   "outputs": [],
   "source": [
    "# Histogram of data\n",
    "df.hist(bins=20, figsize=(12,10), edgecolor='black')\n",
    "plt.suptitle('Histograms of Each Variable')\n",
    "plt.tight_layout()\n",
    "plt.show()"
   ]
  },
  {
   "cell_type": "code",
   "execution_count": null,
   "id": "3",
   "metadata": {},
   "outputs": [],
   "source": [
    "# Boxplots\n",
    "\n",
    "# Select numeric columns\n",
    "numeric_df = df.select_dtypes(include='number')\n",
    "\n",
    "# Boxplot for all numeric columns\n",
    "numeric_df.plot(kind='box', subplots=True, layout=(2,3), figsize=(12,8), sharex=False, sharey=False)\n",
    "plt.suptitle('Boxplots of Numeric Variables')\n",
    "plt.tight_layout()\n",
    "plt.show()\n"
   ]
  },
  {
   "cell_type": "code",
   "execution_count": null,
   "id": "4",
   "metadata": {},
   "outputs": [],
   "source": [
    "# Group count of categorical data\n",
    "for column in df.select_dtypes(include='object').columns:\n",
    "    plt.figure()\n",
    "    df[column].value_counts().plot(kind='bar', edgecolor='black')\n",
    "    plt.title(f'Distribution of {column}')\n",
    "    plt.xlabel(column)\n",
    "    plt.ylabel('Count')\n",
    "    plt.xticks(rotation=45)\n",
    "    plt.tight_layout()\n",
    "    plt.show()"
   ]
  },
  {
   "cell_type": "code",
   "execution_count": null,
   "id": "5",
   "metadata": {},
   "outputs": [],
   "source": [
    "# Alternative way\n",
    "import math\n",
    "cat_cols = df.select_dtypes(include=['object', 'category', 'bool']).columns\n",
    "n = len(cat_cols)\n",
    "ncols = 3\n",
    "nrows = math.ceil(n/ncols)\n",
    "\n",
    "fig, axes = plt.subplots(nrows=nrows, ncols=ncols, figsize=(15, 4 * nrows))\n",
    "axes = axes.flatten()\n",
    "\n",
    "for i , col in enumerate(cat_cols):\n",
    "    df[col].value_counts().plot(kind='bar', ax=axes[i], edgecolor='black')\n",
    "    axes[i].set_title(f'Distribution of {col}')\n",
    "    axes[i].tick_params(axis='x', rotation=45)\n",
    "\n",
    "# Hide unused subplots\n",
    "for j in range(i + 1, len(axes)):\n",
    "    fig.delaxes(axes[j])\n",
    "\n",
    "plt.tight_layout()\n",
    "plt.show()     "
   ]
  },
  {
   "cell_type": "code",
   "execution_count": null,
   "id": "6",
   "metadata": {},
   "outputs": [],
   "source": [
    "import seaborn as sns\n",
    "import matplotlib.pyplot as plt\n",
    "\n",
    "sns.boxplot(data=df, x='Personality', y='Time_spent_Alone')\n",
    "plt.title('Time Spent Alone by Personality Type')\n",
    "plt.show()"
   ]
  },
  {
   "cell_type": "code",
   "execution_count": null,
   "id": "7",
   "metadata": {},
   "outputs": [],
   "source": [
    "# T-test to compare group means (Time Spent Alone, Introvert vs Extrovert)\n",
    "# H0 is that mean of Time Spent Alone between Introverts and Extrovert are the same.\n",
    "\n",
    "from scipy.stats import ttest_ind\n",
    "from utils import check_null_hypothesis_rejected\n",
    "\n",
    "group1 = df[df['Personality'] == 'Introvert']['Time_spent_Alone']\n",
    "group2 = df[df['Personality'] == 'Extrovert']['Time_spent_Alone']\n",
    "\n",
    "t_stat, p_val = ttest_ind(group1, group2, equal_var=False)\n",
    "print(f'T-test p-value: {p_val:.4f}')\n",
    "\n",
    "check_null_hypothesis_rejected(p_val)\n"
   ]
  },
  {
   "cell_type": "code",
   "execution_count": null,
   "id": "8",
   "metadata": {},
   "outputs": [],
   "source": [
    "# Point-Biserial Correlation (Personality based on Time Spent Alone)\n",
    "import pandas as pd\n",
    "from scipy.stats import pointbiserialr\n",
    "from utils import check_null_hypothesis_rejected\n",
    "\n",
    "# Encode personality: introvert = 0 , extrovert = 1\n",
    "df['extrovert_binary'] = df['Personality'].map({'Introvert': 0, 'Extrovert': 1})\n",
    "\n",
    "# Compute point-biserial correlation\n",
    "r, p = pointbiserialr(df['extrovert_binary'], df['Time_spent_Alone'])\n",
    "\n",
    "print(f'Point-biserial correlation: {r:.3f}')\n",
    "print(f'p-value: {p:.4f}')\n"
   ]
  }
 ],
 "metadata": {
  "kernelspec": {
   "display_name": "DataAnalysis_Statistics",
   "language": "python",
   "name": "python3"
  },
  "language_info": {
   "codemirror_mode": {
    "name": "ipython",
    "version": 3
   },
   "file_extension": ".py",
   "mimetype": "text/x-python",
   "name": "python",
   "nbconvert_exporter": "python",
   "pygments_lexer": "ipython3",
   "version": "3.11.13"
  }
 },
 "nbformat": 4,
 "nbformat_minor": 5
}
