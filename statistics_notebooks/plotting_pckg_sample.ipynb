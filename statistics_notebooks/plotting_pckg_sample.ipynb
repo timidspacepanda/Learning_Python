{
 "cells": [
  {
   "cell_type": "code",
   "execution_count": null,
   "id": "0",
   "metadata": {},
   "outputs": [],
   "source": [
    "import numpy as np\n",
    "import matplotlib.pyplot as plt\n",
    "from scipy.stats import mannwhitneyu\n",
    "from utils import check_null_hypothesis_rejected\n",
    "from utils.plotting import indep_hist_subplot, dual_boxplot_sub\n",
    "\n",
    "# Generate two independent samples (not necessarily normally distributed)\n",
    "np.random.seed(0)\n",
    "group1 = np.random.exponential(scale=1.0, size=100)\n",
    "group2 = np.random.exponential(scale=1.5, size=100)\n",
    "\n",
    "# Perform Mann-Whitney U Test\n",
    "stat, p_value = mannwhitneyu(group1, group2, alternative='two-sided')\n",
    "\n",
    "print(\"Mann-Whitney U Test\")\n",
    "print(f\"U Statistic: {stat:.3f}\")\n",
    "print(f\"P-value: {p_value:.3f}\")\n",
    "\n",
    "# Interpret result\n",
    "check_null_hypothesis_rejected(p_value)\n",
    "\n",
    "# Plot histograms\n",
    "fig, axs = plt.subplots(1, 2, figsize=(12,5))\n",
    "\n",
    "# Histogram\n",
    "indep_hist_subplot(axs[0], group1, group2)\n",
    "\n",
    "# Boxplot\n",
    "dual_boxplot_sub(axs[1], group1, group2)\n",
    "\n",
    "plt.tight_layout()\n",
    "plt.show()"
   ]
  }
 ],
 "metadata": {
  "kernelspec": {
   "display_name": "DataAnalysis_Statistics",
   "language": "python",
   "name": "python3"
  },
  "language_info": {
   "codemirror_mode": {
    "name": "ipython",
    "version": 3
   },
   "file_extension": ".py",
   "mimetype": "text/x-python",
   "name": "python",
   "nbconvert_exporter": "python",
   "pygments_lexer": "ipython3",
   "version": "3.11.13"
  }
 },
 "nbformat": 4,
 "nbformat_minor": 5
}
