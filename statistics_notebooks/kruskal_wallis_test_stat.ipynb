{
 "cells": [
  {
   "cell_type": "code",
   "execution_count": null,
   "id": "0",
   "metadata": {},
   "outputs": [],
   "source": [
    "## Kruskal-Wallis Test\n",
    "\"\"\"\n",
    "Kruskal-Wallis H-Test is the non-parametric alternative to one-way ANOVA. \n",
    "It is used to determine whether 3 or more independent groups from the same distribution.\n",
    "\"\"\"\n",
    "\n",
    "from scipy.stats import kruskal\n",
    "from utils.stats_calc_module import check_null_hypothesis_rejected\n",
    "\n",
    "# Example: Three groups (e.g., scores from three teaching methods)\n",
    "method_a = [85, 87, 90, 88, 86]\n",
    "method_b = [78, 75, 80, 74, 79]\n",
    "method_c = [92, 95, 91, 94, 93]\n",
    "\n",
    "# Perform Kruskal-Wallis H-test\n",
    "statistic, p_value = kruskal(method_a, method_b, method_c)\n",
    "\n",
    "print(f\"Kruskal-Wallis H statistic = {statistic:.3f}\")\n",
    "print(f\"p-value = {p_value:.4f}\")\n",
    "\n",
    "# Interpret the result\n",
    "check_null_hypothesis_rejected(p_value)"
   ]
  }
 ],
 "metadata": {
  "kernelspec": {
   "display_name": "DataAnalysis_Statistics",
   "language": "python",
   "name": "python3"
  },
  "language_info": {
   "codemirror_mode": {
    "name": "ipython",
    "version": 3
   },
   "file_extension": ".py",
   "mimetype": "text/x-python",
   "name": "python",
   "nbconvert_exporter": "python",
   "pygments_lexer": "ipython3",
   "version": "3.11.13"
  }
 },
 "nbformat": 4,
 "nbformat_minor": 5
}
